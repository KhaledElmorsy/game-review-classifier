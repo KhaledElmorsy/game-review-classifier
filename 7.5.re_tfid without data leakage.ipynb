{
 "cells": [
  {
   "cell_type": "code",
   "execution_count": 1,
   "metadata": {},
   "outputs": [],
   "source": [
    "import pandas as pd\n",
    "import numpy as np\n",
    "\n",
    "positive_sample = pd.read_csv(r'data\\samples\\positive_sample.csv', nrows = 20000)\n",
    "negative_sample = pd.read_csv(r'data\\samples\\negative_sample.csv', nrows = 20000)\n",
    "\n",
    "# Create lists of reviews and target sentiment values\n",
    "pos_rev = positive_sample['review'].astype(str).to_list()\n",
    "pos_trg = positive_sample['sentiment'].to_list()\n",
    "\n",
    "neg_rev = negative_sample['review'].astype(str).to_list()\n",
    "neg_trg = negative_sample['sentiment'].to_list()\n",
    "\n",
    "\n",
    "# Concatenate review lists and target lists\n",
    "reviews = pos_rev + neg_rev\n",
    "targets = pos_trg + neg_trg"
   ]
  },
  {
   "cell_type": "markdown",
   "metadata": {},
   "source": [
    "Data Leakage in notebook 7! Split first then vectorize"
   ]
  },
  {
   "cell_type": "code",
   "execution_count": 2,
   "metadata": {},
   "outputs": [
    {
     "name": "stdout",
     "output_type": "stream",
     "text": [
      "0.8686\n"
     ]
    }
   ],
   "source": [
    "from sklearn.model_selection import train_test_split\n",
    "from sklearn.feature_extraction.text import TfidfVectorizer\n",
    "from sklearn.linear_model import LogisticRegression\n",
    "from sklearn.metrics import accuracy_score\n",
    "\n",
    "X_train, X_test, y_train, y_test = train_test_split(reviews, targets)\n",
    "\n",
    "vectorizer = TfidfVectorizer(ngram_range=(1,2), max_features=10000)\n",
    "X_train_f = vectorizer.fit_transform(X_train)\n",
    "X_test_f = vectorizer.transform(X_test)\n",
    "\n",
    "clf = LogisticRegression(max_iter=200).fit(X_train_f, y_train)\n",
    "y_pred = clf.predict(X_test_f)\n",
    "\n",
    "print(accuracy_score(y_test,y_pred))"
   ]
  },
  {
   "cell_type": "markdown",
   "metadata": {},
   "source": [
    "Accuracy still around 87%, likely because of large max features threshold. "
   ]
  },
  {
   "cell_type": "code",
   "execution_count": 3,
   "metadata": {},
   "outputs": [
    {
     "name": "stdout",
     "output_type": "stream",
     "text": [
      "[ True]\n"
     ]
    }
   ],
   "source": [
    "test = 'i love this game'\n",
    "test_transf = vectorizer.transform([test])\n",
    "print(clf.predict(test_transf))"
   ]
  },
  {
   "cell_type": "code",
   "execution_count": 4,
   "metadata": {},
   "outputs": [],
   "source": [
    "# Overwrite old features and coefficients with leakage free values\n",
    "feature_names = vectorizer.get_feature_names()\n",
    "view = pd.DataFrame({'features':feature_names, 'coeff': clf.coef_[0] })\n",
    "view.to_csv(r'data\\visualization\\raw data\\7-tfidsample.csv', index=False)"
   ]
  },
  {
   "cell_type": "markdown",
   "metadata": {},
   "source": [
    "Testing out Decision Tree classifier"
   ]
  },
  {
   "cell_type": "code",
   "execution_count": 5,
   "metadata": {},
   "outputs": [
    {
     "name": "stdout",
     "output_type": "stream",
     "text": [
      "0.7614\n"
     ]
    }
   ],
   "source": [
    "from sklearn.tree import DecisionTreeClassifier\n",
    "\n",
    "dt_clf = DecisionTreeClassifier().fit(X_train_f,y_train)\n",
    "y_dt = dt_clf.predict(X_test_f)\n",
    "print(accuracy_score(y_test,y_dt))"
   ]
  },
  {
   "cell_type": "markdown",
   "metadata": {},
   "source": [
    "Worse Performance. Likely because of binary nature of decision trees with the variability of sentence length and number of word occurences. Random Forest could perform better."
   ]
  },
  {
   "cell_type": "code",
   "execution_count": 6,
   "metadata": {},
   "outputs": [
    {
     "name": "stdout",
     "output_type": "stream",
     "text": [
      "0.8227\n"
     ]
    }
   ],
   "source": [
    "from sklearn.ensemble import RandomForestClassifier\n",
    "\n",
    "rf_clf = RandomForestClassifier(n_estimators=50).fit(X_train_f, y_train)\n",
    "y_rf = rf_clf.predict(X_test_f)\n",
    "print(accuracy_score(y_test,y_rf))"
   ]
  },
  {
   "cell_type": "markdown",
   "metadata": {},
   "source": [
    "Slightly better, but binary classifiers still naturally incompatible with this problem. Logistic regression performance is acceptable."
   ]
  }
 ],
 "metadata": {
  "interpreter": {
   "hash": "9133d50dc87182ed154dd984b25012be9bb6762f92b1cab2f9ffcc6b9b06f1af"
  },
  "kernelspec": {
   "display_name": "Python 3.9.7 64-bit ('base': conda)",
   "language": "python",
   "name": "python3"
  },
  "language_info": {
   "codemirror_mode": {
    "name": "ipython",
    "version": 3
   },
   "file_extension": ".py",
   "mimetype": "text/x-python",
   "name": "python",
   "nbconvert_exporter": "python",
   "pygments_lexer": "ipython3",
   "version": "3.9.7"
  },
  "orig_nbformat": 4
 },
 "nbformat": 4,
 "nbformat_minor": 2
}
