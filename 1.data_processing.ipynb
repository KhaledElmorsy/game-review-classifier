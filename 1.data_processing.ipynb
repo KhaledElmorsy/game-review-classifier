{
 "cells": [
  {
   "cell_type": "code",
   "execution_count": 2,
   "id": "64011570",
   "metadata": {},
   "outputs": [
    {
     "name": "stdout",
     "output_type": "stream",
     "text": [
      "Index(['Unnamed: 0', 'app_id', 'app_name', 'review_id', 'language', 'review',\n",
      "       'timestamp_created', 'timestamp_updated', 'recommended',\n",
      "       'votes_helpful', 'votes_funny', 'weighted_vote_score', 'comment_count',\n",
      "       'steam_purchase', 'received_for_free', 'written_during_early_access',\n",
      "       'author.steamid', 'author.num_games_owned', 'author.num_reviews',\n",
      "       'author.playtime_forever', 'author.playtime_last_two_weeks',\n",
      "       'author.playtime_at_review', 'author.last_played'],\n",
      "      dtype='object')\n"
     ]
    }
   ],
   "source": [
    "import pandas as pd\n",
    "\n",
    "# Quickly checking columns\n",
    "df = pd.read_csv(r'data\\unprocessed\\steam_reviews.csv', nrows=0)\n",
    "print(df.columns)"
   ]
  },
  {
   "cell_type": "code",
   "execution_count": 10,
   "id": "c8376bb0",
   "metadata": {},
   "outputs": [
    {
     "name": "stdout",
     "output_type": "stream",
     "text": [
      "Index(['review', 'recommended', 'author.playtime_at_review',\n",
      "       'author.num_games_owned', 'author.num_reviews'],\n",
      "      dtype='object')\n"
     ]
    }
   ],
   "source": [
    "# Columns to keep. Will be needed during processing\n",
    "keep = ['review','recommended','author.playtime_at_review','author.num_games_owned','author.num_reviews']\n",
    "\n",
    "#  Column filtering example\n",
    "df_filtered = df[keep]\n",
    "print(df_filtered.columns)"
   ]
  },
  {
   "cell_type": "markdown",
   "metadata": {},
   "source": [
    "author.playtime_at_review is in minutes. Compare: https://store.steampowered.com/appreviews/784080?json=1&language=all&userid=76561198020436202, with https://steamcommunity.com/profiles/76561198020436202/recommended/784080/"
   ]
  },
  {
   "cell_type": "code",
   "execution_count": 11,
   "id": "77aa0d5d",
   "metadata": {},
   "outputs": [
    {
     "name": "stdout",
     "output_type": "stream",
     "text": [
      "['schinese' 'english' 'turkish' 'spanish' 'russian' 'koreana' 'latam'\n",
      " 'brazilian' 'portuguese' 'vietnamese' 'polish' 'french' 'german'\n",
      " 'hungarian' 'ukrainian' 'tchinese' 'bulgarian' 'czech' 'italian' 'thai'\n",
      " 'greek' 'dutch' 'finnish' 'romanian' 'japanese' 'swedish' 'danish'\n",
      " 'norwegian']\n"
     ]
    }
   ],
   "source": [
    "# Checking review languages\n",
    "df = pd.read_csv(r'data\\unprocessed\\steam_reviews.csv', nrows=10000)\n",
    "print(df.language.unique())"
   ]
  },
  {
   "cell_type": "code",
   "execution_count": 12,
   "id": "8abf8c72",
   "metadata": {},
   "outputs": [
    {
     "name": "stdout",
     "output_type": "stream",
     "text": [
      "['english']\n"
     ]
    }
   ],
   "source": [
    "# Filtering non-english reviews\n",
    "df_english = df[df['language'].str.contains(\"english\")].copy()\n",
    "print(df_english.language.unique())"
   ]
  },
  {
   "cell_type": "code",
   "execution_count": 14,
   "id": "68989336",
   "metadata": {},
   "outputs": [
    {
     "name": "stdout",
     "output_type": "stream",
     "text": [
      "Loaded chunks\n"
     ]
    },
    {
     "name": "stderr",
     "output_type": "stream",
     "text": [
      "C:\\Users\\Khaled\\AppData\\Local\\Temp/ipykernel_28312/3022415232.py:29: FutureWarning: The default value of regex will change from True to False in a future version.\n",
      "  chunk.review = chunk.review.str.replace('[^a-z\\s]','')\n"
     ]
    }
   ],
   "source": [
    "# read 21mil row (8gb) CSV as chunks\n",
    "chunks = pd.read_csv(r'data\\unprocessed\\steam_reviews.csv', chunksize = 400000)\n",
    "print(\"Loaded chunks\")\n",
    "\n",
    "# Column list already declared but incase we forgot. Rename columns list for easier use later.\n",
    "keep = ['review','recommended','author.playtime_at_review','author.num_games_owned','author.num_reviews']\n",
    "new_names = ['review','sentiment','playtime','num_games','num_reviews']\n",
    "\n",
    "# Define new column order with target (sentiment) last\n",
    "columns_ordered = ['review','playtime','num_games','num_reviews','sentiment']\n",
    "\n",
    "# List to append chunks to after proecssing\n",
    "chunklist=[]\n",
    "\n",
    "# Iterating through chunks\n",
    "for chunk in chunks:\n",
    "        \n",
    "        # Flter non-english rows then drop unnecessary columns, rename remaining columns, and reorder them\n",
    "        chunk = chunk[chunk['language'].str.contains(\"english\")]\n",
    "        chunk = chunk[keep]\n",
    "        chunk.set_axis(new_names, axis = 1, inplace=True)\n",
    "        chunk = chunk[columns_ordered]\n",
    "\n",
    "        # Drop rows with empty cells\n",
    "        df.dropna(inplace=True)\n",
    "\n",
    "        # Convert reviews to lower case, keep only alphabet, and change new-lines to spaces\n",
    "        chunk.review = chunk.review.str.lower()\n",
    "        chunk.review = chunk.review.str.replace('[^a-z\\s]','',regex=True)\n",
    "        chunk.review = chunk.review.str.replace('\\n',' ')\n",
    "\n",
    "        # Keep only rows where review  contain letter (drop ones made out of spaces)\n",
    "        chunk = chunk[chunk['review'].str.contains('[a-z]', na=False)]\n",
    "\n",
    "        # Convert playtime from minutes to hours for intuitive understanding \n",
    "        chunk['playtime'] = round(chunk['playtime'] / 60, 2)\n",
    "        \n",
    "        chunklist.append(chunk)\n",
    "\n",
    "# Merge chunks into one dataframe\n",
    "df = pd.concat(chunklist, ignore_index=True)\n",
    "\n",
    "# Write dataframe to new CSV\n",
    "df.to_csv(r'data\\processed\\reviews_processed.csv', index=False)"
   ]
  },
  {
   "cell_type": "code",
   "execution_count": null,
   "id": "6d690e18",
   "metadata": {},
   "outputs": [
    {
     "name": "stdout",
     "output_type": "stream",
     "text": [
      "                                              review  playtime  num_games  \\\n",
      "0  one of the best rpgs of all time worthy of any...     92.07          5   \n",
      "1                good story good graphics lots to do     13.72         11   \n",
      "2                                            dis gud     69.87         27   \n",
      "3  favorite game of all time cant wait for the ne...    388.82         33   \n",
      "4                           why wouldnt you get this    142.62        131   \n",
      "\n",
      "   num_reviews  sentiment  \n",
      "0            3       True  \n",
      "1            1       True  \n",
      "2            2       True  \n",
      "3            1       True  \n",
      "4            2       True  \n"
     ]
    }
   ],
   "source": [
    "test = pd.read_csv(r'data\\processed\\reviews_processed.csv', nrows=1000)\n",
    "print(test.head())"
   ]
  }
 ],
 "metadata": {
  "kernelspec": {
   "display_name": "Python 3 (ipykernel)",
   "language": "python",
   "name": "python3"
  },
  "language_info": {
   "codemirror_mode": {
    "name": "ipython",
    "version": 3
   },
   "file_extension": ".py",
   "mimetype": "text/x-python",
   "name": "python",
   "nbconvert_exporter": "python",
   "pygments_lexer": "ipython3",
   "version": "3.9.7"
  }
 },
 "nbformat": 4,
 "nbformat_minor": 5
}
