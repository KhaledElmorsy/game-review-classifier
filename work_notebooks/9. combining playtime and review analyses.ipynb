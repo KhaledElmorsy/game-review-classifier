{
 "cells": [
  {
   "cell_type": "markdown",
   "metadata": {},
   "source": [
    "### Pulling, Preprocessing, and Splitting the Data"
   ]
  },
  {
   "cell_type": "code",
   "execution_count": 23,
   "metadata": {},
   "outputs": [],
   "source": [
    "import pandas as pd\n",
    "import numpy as np\n",
    "from sklearn.model_selection import train_test_split\n",
    "\n",
    "# IQR Outlier clipper\n",
    "def iqr_clip(df, test, column, upper = 0.75, lower = 0.25, factor = 1.5):\n",
    "    mean = df[column].mean()\n",
    "    iqr = df[column].quantile(upper) - df[column].quantile(lower)\n",
    "    filter = (df[column] < mean+iqr*factor) & (df[column] > mean-iqr*factor)\n",
    "    return df[filter],test[filter]\n",
    "\n",
    "# Pull positive and negative reviews and combine into 1 dataframe\n",
    "positive_sample = pd.read_csv(r'data\\samples\\positive_sample.csv', nrows = 100000)\n",
    "negative_sample = pd.read_csv(r'data\\samples\\negative_sample.csv', nrows = 100000)\n",
    "df = pd.concat([positive_sample,negative_sample], ignore_index= True)\n",
    "\n",
    "\n",
    "# Keep relevant variables\n",
    "df = df[['playtime','review','sentiment']]\n",
    "\n",
    "# Replace playtime nulls with ~0 [See 8]. A miniscule constant is added for the log transform.\n",
    "df.loc[df['playtime'].isna(),'playtime'] = 0.000001\n",
    "\n",
    "# Log transform playtime data\n",
    "df['playtime'] = np.log(df['playtime'])\n",
    "\n",
    "# Split into train and test sets\n",
    "X_train, X_test, y_train, y_test = train_test_split(df[['playtime','review']],df['sentiment'], train_size=0.8)\n",
    "\n",
    "# Clip playtime outliers with percentiles at 95% and 5% and a factor of 1.5 (default) \n",
    "X_train,y_train = iqr_clip(X_train, y_train, 'playtime',0.95,0.05)\n"
   ]
  },
  {
   "cell_type": "markdown",
   "metadata": {},
   "source": [
    "##### Comparing review text as a predictor versus review text with playtime"
   ]
  },
  {
   "cell_type": "code",
   "execution_count": 24,
   "metadata": {},
   "outputs": [
    {
     "data": {
      "text/html": [
       "<div>\n",
       "<style scoped>\n",
       "    .dataframe tbody tr th:only-of-type {\n",
       "        vertical-align: middle;\n",
       "    }\n",
       "\n",
       "    .dataframe tbody tr th {\n",
       "        vertical-align: top;\n",
       "    }\n",
       "\n",
       "    .dataframe thead th {\n",
       "        text-align: right;\n",
       "    }\n",
       "</style>\n",
       "<table border=\"1\" class=\"dataframe\">\n",
       "  <thead>\n",
       "    <tr style=\"text-align: right;\">\n",
       "      <th></th>\n",
       "      <th>Accuracy score</th>\n",
       "    </tr>\n",
       "  </thead>\n",
       "  <tbody>\n",
       "    <tr>\n",
       "      <th>Text Only Logistic</th>\n",
       "      <td>0.88475</td>\n",
       "    </tr>\n",
       "  </tbody>\n",
       "</table>\n",
       "</div>"
      ],
      "text/plain": [
       "                    Accuracy score\n",
       "Text Only Logistic         0.88475"
      ]
     },
     "execution_count": 24,
     "metadata": {},
     "output_type": "execute_result"
    }
   ],
   "source": [
    "from sklearn.feature_extraction.text import TfidfVectorizer\n",
    "from sklearn.linear_model import LogisticRegression\n",
    "from sklearn.metrics import accuracy_score\n",
    "\n",
    "# Extract features and vectorize training set of reviews.\n",
    "vec = TfidfVectorizer(ngram_range=(1,2), max_features=10000)\n",
    "X_train_f = vec.fit_transform(X_train['review'])\n",
    "\n",
    "# Transform test set using the training set vector\n",
    "X_test_f = vec.transform(X_test['review'])\n",
    "\n",
    "# Baseline prediction with just review text\n",
    "clf_text = LogisticRegression(max_iter=400).fit(X_train_f,y_train)\n",
    "y_pred = clf_text.predict(X_test_f)\n",
    "\n",
    "# Dataframe to store accuracy results\n",
    "accuracy = pd.DataFrame(columns =['Accuracy score'])\n",
    "\n",
    "# Append results to dataframe\n",
    "accuracy.loc['Text Only Logistic'] = accuracy_score(y_test,y_pred)\n",
    "accuracy\n"
   ]
  },
  {
   "cell_type": "markdown",
   "metadata": {},
   "source": [
    "High accuracy as seen before in (7.5). \n",
    "\n",
    "Next, to incorporate playtime:"
   ]
  },
  {
   "cell_type": "markdown",
   "metadata": {},
   "source": [
    "#### Fitting Combined Feature Vector to Logistic Regression"
   ]
  },
  {
   "cell_type": "code",
   "execution_count": 25,
   "metadata": {},
   "outputs": [
    {
     "data": {
      "text/html": [
       "<div>\n",
       "<style scoped>\n",
       "    .dataframe tbody tr th:only-of-type {\n",
       "        vertical-align: middle;\n",
       "    }\n",
       "\n",
       "    .dataframe tbody tr th {\n",
       "        vertical-align: top;\n",
       "    }\n",
       "\n",
       "    .dataframe thead th {\n",
       "        text-align: right;\n",
       "    }\n",
       "</style>\n",
       "<table border=\"1\" class=\"dataframe\">\n",
       "  <thead>\n",
       "    <tr style=\"text-align: right;\">\n",
       "      <th></th>\n",
       "      <th>Accuracy score</th>\n",
       "    </tr>\n",
       "  </thead>\n",
       "  <tbody>\n",
       "    <tr>\n",
       "      <th>Text Only Logistic</th>\n",
       "      <td>0.88475</td>\n",
       "    </tr>\n",
       "    <tr>\n",
       "      <th>Text &amp; Playtime Logistic</th>\n",
       "      <td>0.88810</td>\n",
       "    </tr>\n",
       "  </tbody>\n",
       "</table>\n",
       "</div>"
      ],
      "text/plain": [
       "                          Accuracy score\n",
       "Text Only Logistic               0.88475\n",
       "Text & Playtime Logistic         0.88810"
      ]
     },
     "execution_count": 25,
     "metadata": {},
     "output_type": "execute_result"
    }
   ],
   "source": [
    "from scipy.sparse import csr_matrix\n",
    "from scipy import sparse\n",
    "\n",
    "# Append playtime to text feature matrix. Vectorizer produces a sparse matrix so playtime is converted and horizontally stacked\n",
    "combined_train = sparse.hstack((X_train_f,csr_matrix(X_train['playtime'].values.reshape(-1,1))))\n",
    "combined_test = sparse.hstack((X_test_f,csr_matrix(X_test['playtime'].values.reshape(-1,1))))\n",
    "\n",
    "# Fit a logistic regression model with the combined training data and predict results\n",
    "clf_comb = LogisticRegression(max_iter=400).fit(combined_train,y_train)\n",
    "y_pred_comb = clf_comb.predict(combined_test)\n",
    "\n",
    "accuracy.loc['Text & Playtime Logistic']= accuracy_score(y_test,y_pred_comb)\n",
    "accuracy"
   ]
  },
  {
   "cell_type": "markdown",
   "metadata": {},
   "source": [
    "Accuracy marginally increased. As seen in (8), playtime isn't the best predictor for review sentiment. With the small increase in accuracy, it may have helped push a small number of sampels to the right sentiment, but if anything it's a minor improvement.\n",
    "\n",
    "Now to test the influence of playtime with a more complex model, a neural network. In (8), using an MLP classifer did give better results than a logistic regresion, so the expecation going into this test is that we'll observe a bigger increase in accuracy.\n",
    "\n",
    "#### Nueral Network Test\n",
    "##### Training with only the Review Text"
   ]
  },
  {
   "cell_type": "code",
   "execution_count": 26,
   "metadata": {},
   "outputs": [
    {
     "data": {
      "text/html": [
       "<div>\n",
       "<style scoped>\n",
       "    .dataframe tbody tr th:only-of-type {\n",
       "        vertical-align: middle;\n",
       "    }\n",
       "\n",
       "    .dataframe tbody tr th {\n",
       "        vertical-align: top;\n",
       "    }\n",
       "\n",
       "    .dataframe thead th {\n",
       "        text-align: right;\n",
       "    }\n",
       "</style>\n",
       "<table border=\"1\" class=\"dataframe\">\n",
       "  <thead>\n",
       "    <tr style=\"text-align: right;\">\n",
       "      <th></th>\n",
       "      <th>Accuracy score</th>\n",
       "    </tr>\n",
       "  </thead>\n",
       "  <tbody>\n",
       "    <tr>\n",
       "      <th>Text Only Logistic</th>\n",
       "      <td>0.884750</td>\n",
       "    </tr>\n",
       "    <tr>\n",
       "      <th>Text &amp; Playtime Logistic</th>\n",
       "      <td>0.888100</td>\n",
       "    </tr>\n",
       "    <tr>\n",
       "      <th>Text Only NN</th>\n",
       "      <td>0.885825</td>\n",
       "    </tr>\n",
       "  </tbody>\n",
       "</table>\n",
       "</div>"
      ],
      "text/plain": [
       "                          Accuracy score\n",
       "Text Only Logistic              0.884750\n",
       "Text & Playtime Logistic        0.888100\n",
       "Text Only NN                    0.885825"
      ]
     },
     "execution_count": 26,
     "metadata": {},
     "output_type": "execute_result"
    }
   ],
   "source": [
    "from sklearn.neural_network import MLPClassifier\n",
    "\n",
    "import warnings\n",
    "from sklearn.exceptions import ConvergenceWarning\n",
    "warnings.filterwarnings(action='ignore', category=ConvergenceWarning)\n",
    "\n",
    "# MLP Classifier. Max Iterations set low to avoid overfitting to training data\n",
    "mlp_text =  MLPClassifier(hidden_layer_sizes=(30), max_iter=2, random_state=1)\n",
    "clf_text_nn = mlp_text.fit(X_train_f, y_train)\n",
    "y_pred_text_nn = clf_text_nn.predict(X_test_f)\n",
    "\n",
    "accuracy.loc['Text Only NN'] = accuracy_score(y_test,y_pred_text_nn)\n",
    "accuracy"
   ]
  },
  {
   "cell_type": "markdown",
   "metadata": {},
   "source": [
    "Text only accuracy is almost equal to the logistic regression. This shows good of a predictor the review text is.\n",
    "\n",
    "##### Training with Text & Playtime"
   ]
  },
  {
   "cell_type": "code",
   "execution_count": 27,
   "metadata": {},
   "outputs": [
    {
     "data": {
      "text/html": [
       "<div>\n",
       "<style scoped>\n",
       "    .dataframe tbody tr th:only-of-type {\n",
       "        vertical-align: middle;\n",
       "    }\n",
       "\n",
       "    .dataframe tbody tr th {\n",
       "        vertical-align: top;\n",
       "    }\n",
       "\n",
       "    .dataframe thead th {\n",
       "        text-align: right;\n",
       "    }\n",
       "</style>\n",
       "<table border=\"1\" class=\"dataframe\">\n",
       "  <thead>\n",
       "    <tr style=\"text-align: right;\">\n",
       "      <th></th>\n",
       "      <th>Accuracy score</th>\n",
       "    </tr>\n",
       "  </thead>\n",
       "  <tbody>\n",
       "    <tr>\n",
       "      <th>Text Only Logistic</th>\n",
       "      <td>0.884750</td>\n",
       "    </tr>\n",
       "    <tr>\n",
       "      <th>Text &amp; Playtime Logistic</th>\n",
       "      <td>0.888100</td>\n",
       "    </tr>\n",
       "    <tr>\n",
       "      <th>Text Only NN</th>\n",
       "      <td>0.885825</td>\n",
       "    </tr>\n",
       "    <tr>\n",
       "      <th>Text &amp; Playtime NN</th>\n",
       "      <td>0.888475</td>\n",
       "    </tr>\n",
       "  </tbody>\n",
       "</table>\n",
       "</div>"
      ],
      "text/plain": [
       "                          Accuracy score\n",
       "Text Only Logistic              0.884750\n",
       "Text & Playtime Logistic        0.888100\n",
       "Text Only NN                    0.885825\n",
       "Text & Playtime NN              0.888475"
      ]
     },
     "execution_count": 27,
     "metadata": {},
     "output_type": "execute_result"
    }
   ],
   "source": [
    "\n",
    "mlp_comb =  MLPClassifier(hidden_layer_sizes=(30), max_iter=2, random_state=1)\n",
    "clf_comb_nn = mlp_comb.fit(combined_train, y_train)\n",
    "y_pred_comb_nn = clf_comb_nn.predict(combined_test)\n",
    "\n",
    "accuracy.loc['Text & Playtime NN'] = accuracy_score(y_test,y_pred_comb_nn)\n",
    "accuracy"
   ]
  },
  {
   "cell_type": "code",
   "execution_count": 28,
   "metadata": {},
   "outputs": [
    {
     "data": {
      "image/png": "[encoded data removed]",
      "text/plain": [
       "<Figure size 432x288 with 1 Axes>"
      ]
     },
     "metadata": {},
     "output_type": "display_data"
    }
   ],
   "source": [
    "import matplotlib.pyplot as plt\n",
    "import seaborn as sns\n",
    "sns.set()\n",
    "\n",
    "accuracy.plot.line(marker = 'o', )\n",
    "plt.xticks(fontstretch=300)\n",
    "plt.show()"
   ]
  },
  {
   "cell_type": "markdown",
   "metadata": {},
   "source": [
    "We can see an improved as we include both features and move to more complex models. But don't be fooled by the graph, this improvement is over less than a percent of accuracy. Whether the value of having an extra feature for such a small gain in accuracy depends on factors like the availability of that feature in the use cases of the model and the most value we can extract from it. We're trying to answer the question of: 'Is it worth predicting our sentiment based on the review AND the playtime if playtime isn't adding a lot to our accuracy and limits our model to data that optimally has both features?' \n",
    "\n",
    "The same applies to using a nueral network versus a logsitc regression. We need to define an experiement that reduces these 4 model/feature approaches to one that doesn't only maximize accuracy, but also flexibility and efficiency.\n",
    "\n",
    "In the next step we'll create pipelines that'll allow us to improve each model's accuracy by optimizing their hyper parameters. This'll give us a better look at the highest accuracy each approach can achieve."
   ]
  }
 ],
 "metadata": {
  "interpreter": {
   "hash": "9133d50dc87182ed154dd984b25012be9bb6762f92b1cab2f9ffcc6b9b06f1af"
  },
  "kernelspec": {
   "display_name": "Python 3.9.7 64-bit ('base': conda)",
   "language": "python",
   "name": "python3"
  },
  "language_info": {
   "codemirror_mode": {
    "name": "ipython",
    "version": 3
   },
   "file_extension": ".py",
   "mimetype": "text/x-python",
   "name": "python",
   "nbconvert_exporter": "python",
   "pygments_lexer": "ipython3",
   "version": "3.9.7"
  },
  "orig_nbformat": 4
 },
 "nbformat": 4,
 "nbformat_minor": 2
}
