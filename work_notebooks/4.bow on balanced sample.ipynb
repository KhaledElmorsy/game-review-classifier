{
 "cells": [
  {
   "cell_type": "code",
   "execution_count": null,
   "metadata": {},
   "outputs": [],
   "source": [
    "import pandas as pd\n",
    "import numpy as np\n",
    "\n",
    "\n",
    "df = pd.read_csv(r'data\\processed\\reviews_processed.csv')\n",
    "\n",
    "positive = df.loc[df['sentiment'] == True]\n",
    "negative = df.loc[df['sentiment'] == False]\n",
    "\n",
    "\n",
    "\n",
    "positive.to_csv(r'data\\processed\\positive_processed.csv', index=False)\n",
    "negative.to_csv(r'data\\processed\\negative_processed.csv', index=False)"
   ]
  },
  {
   "cell_type": "code",
   "execution_count": 5,
   "metadata": {},
   "outputs": [],
   "source": [
    "# Randomly sample 1mil  positive and negative reviews each\n",
    "positive_sample = positive.sample(n=1000000)\n",
    "negative_sample = negative.sample(n=1000000)\n",
    "\n",
    "# Write samples to CSV for faster access later\n",
    "positive_sample.to_csv(r'data\\samples\\positive_sample.csv', index=False)\n",
    "negative_sample.to_csv(r'data\\samples\\negative_sample.csv', index=False)"
   ]
  },
  {
   "cell_type": "code",
   "execution_count": 2,
   "metadata": {},
   "outputs": [],
   "source": [
    "import pandas as pd\n",
    "import numpy as np\n",
    "\n",
    "positive_sample = pd.read_csv(r'data\\samples\\positive_sample.csv')\n",
    "negative_sample = pd.read_csv(r'data\\samples\\negative_sample.csv')\n",
    "\n",
    "# Create lists of reviews and target sentiment values\n",
    "pos_rev = positive_sample['review'].astype(str).to_list()\n",
    "pos_trg = positive_sample['sentiment'].to_list()\n",
    "\n",
    "neg_rev = negative_sample['review'].astype(str).to_list()\n",
    "neg_trg = negative_sample['sentiment'].to_list()\n",
    "\n",
    "\n",
    "# Concatenate review lists and target lists\n",
    "reviews = pos_rev + neg_rev\n",
    "targets = pos_trg + neg_trg"
   ]
  },
  {
   "cell_type": "code",
   "execution_count": null,
   "metadata": {},
   "outputs": [],
   "source": [
    "test = negative_sample[negative_sample['review'].str.contains('[a-z]', na=False)]\n",
    "print(test.head(10))"
   ]
  },
  {
   "cell_type": "code",
   "execution_count": 11,
   "metadata": {},
   "outputs": [
    {
     "name": "stdout",
     "output_type": "stream",
     "text": [
      "['about', 'actually', 'after', 'again', 'all', 'all the', 'also', 'amazing', 'an', 'and', 'and the', 'any', 'are', 'around', 'as', 'at', 'back', 'bad', 'be', 'because', 'been', 'before', 'being', 'best', 'better', 'bugs', 'but', 'buy', 'by', 'can', 'cant', 'could', 'dlc', 'do', 'doesnt', 'dont', 'down', 'even', 'ever', 'every', 'everything', 'experience', 'feel', 'few', 'find', 'first', 'for', 'for the', 'friends', 'from', 'fun', 'game', 'game and', 'game but', 'game is', 'gameplay', 'games', 'get', 'give', 'go', 'going', 'good', 'got', 'graphics', 'great', 'had', 'hard', 'has', 'have', 'have to', 'hours', 'how', 'if', 'if you', 'im', 'in', 'in the', 'into', 'is', 'is the', 'it', 'it is', 'it was', 'its', 'ive', 'just', 'know', 'like', 'lot', 'lot of', 'love', 'made', 'make', 'many', 'me', 'mods', 'money', 'more', 'most', 'much', 'my', 'need', 'never', 'new', 'no', 'not', 'nothing', 'now', 'of', 'of the', 'off', 'on', 'on the', 'one', 'one of', 'only', 'or', 'other', 'out', 'over', 'people', 'play', 'played', 'player', 'players', 'playing', 'pretty', 'really', 'recommend', 'same', 'say', 'see', 'shit', 'should', 'since', 'so', 'some', 'something', 'still', 'story', 'system', 'take', 'than', 'that', 'thats', 'the', 'the best', 'the game', 'the same', 'their', 'them', 'then', 'there', 'there are', 'there is', 'they', 'thing', 'things', 'think', 'this', 'this game', 'this is', 'through', 'time', 'times', 'to', 'to be', 'to get', 'to play', 'to the', 'too', 'up', 'very', 'want', 'want to', 'was', 'way', 'we', 'well', 'were', 'what', 'when', 'where', 'which', 'while', 'who', 'why', 'will', 'with', 'with the', 'work', 'world', 'worth', 'would', 'you', 'you are', 'you can', 'you have', 'your', 'youre']\n"
     ]
    }
   ],
   "source": [
    "from sklearn.feature_extraction.text import CountVectorizer\n",
    "from sklearn.model_selection import train_test_split\n",
    "from sklearn.linear_model import LogisticRegression\n",
    "from sklearn.metrics import accuracy_score\n",
    "\n",
    "vectorizer = CountVectorizer(ngram_range=(1,2), max_features=200)\n",
    "features = vectorizer.fit_transform(reviews)"
   ]
  },
  {
   "cell_type": "code",
   "execution_count": 12,
   "metadata": {},
   "outputs": [
    {
     "name": "stderr",
     "output_type": "stream",
     "text": [
      "C:\\Users\\Khaled\\anaconda3\\lib\\site-packages\\sklearn\\linear_model\\_logistic.py:763: ConvergenceWarning: lbfgs failed to converge (status=1):\n",
      "STOP: TOTAL NO. of ITERATIONS REACHED LIMIT.\n",
      "\n",
      "Increase the number of iterations (max_iter) or scale the data as shown in:\n",
      "    https://scikit-learn.org/stable/modules/preprocessing.html\n",
      "Please also refer to the documentation for alternative solver options:\n",
      "    https://scikit-learn.org/stable/modules/linear_model.html#logistic-regression\n",
      "  n_iter_i = _check_optimize_result(\n"
     ]
    },
    {
     "name": "stdout",
     "output_type": "stream",
     "text": [
      "0.757096\n"
     ]
    }
   ],
   "source": [
    "features_nd = features.toarray()\n",
    "\n",
    "X_train, X_test, y_train, y_test = train_test_split(features_nd, targets)\n",
    "\n",
    "clf = LogisticRegression().fit(X_train, y_train)\n",
    "y_pred = clf.predict(X_test)\n",
    "\n",
    "print(accuracy_score(y_test,y_pred))\n"
   ]
  },
  {
   "cell_type": "code",
   "execution_count": 27,
   "metadata": {},
   "outputs": [
    {
     "name": "stdout",
     "output_type": "stream",
     "text": [
      "[False]\n"
     ]
    }
   ],
   "source": [
    "test = vectorizer.transform(['this was worth the money'])\n",
    "print(clf.predict(test))"
   ]
  }
 ],
 "metadata": {
  "interpreter": {
   "hash": "9133d50dc87182ed154dd984b25012be9bb6762f92b1cab2f9ffcc6b9b06f1af"
  },
  "kernelspec": {
   "display_name": "Python 3.9.7 64-bit ('base': conda)",
   "language": "python",
   "name": "python3"
  },
  "language_info": {
   "codemirror_mode": {
    "name": "ipython",
    "version": 3
   },
   "file_extension": ".py",
   "mimetype": "text/x-python",
   "name": "python",
   "nbconvert_exporter": "python",
   "pygments_lexer": "ipython3",
   "version": "3.9.7"
  },
  "orig_nbformat": 4
 },
 "nbformat": 4,
 "nbformat_minor": 2
}
