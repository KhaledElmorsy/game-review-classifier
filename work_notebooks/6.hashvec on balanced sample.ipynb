{
 "cells": [
  {
   "cell_type": "code",
   "execution_count": 28,
   "metadata": {},
   "outputs": [],
   "source": [
    "import pandas as pd\n",
    "import numpy as np\n",
    "\n",
    "positive_sample = pd.read_csv(r'data\\samples\\positive_sample.csv', nrows = 40000)\n",
    "negative_sample = pd.read_csv(r'data\\samples\\negative_sample.csv', nrows = 40000)\n",
    "\n",
    "# Create lists of reviews and target sentiment values\n",
    "pos_rev = positive_sample['review'].astype(str).to_list()\n",
    "pos_trg = positive_sample['sentiment'].to_list()\n",
    "\n",
    "neg_rev = negative_sample['review'].astype(str).to_list()\n",
    "neg_trg = negative_sample['sentiment'].to_list()\n",
    "\n",
    "\n",
    "# Concatenate review lists and target lists\n",
    "reviews = pos_rev + neg_rev\n",
    "targets = pos_trg + neg_trg"
   ]
  },
  {
   "cell_type": "code",
   "execution_count": 29,
   "metadata": {},
   "outputs": [],
   "source": [
    "from sklearn.feature_extraction.text import HashingVectorizer\n",
    "from sklearn.model_selection import train_test_split\n",
    "from sklearn.linear_model import LogisticRegression\n",
    "from sklearn.metrics import accuracy_score\n",
    "\n",
    "vectorizer = HashingVectorizer(ngram_range=(1,2), n_features=10000)\n",
    "features = vectorizer.fit_transform(reviews)\n",
    "features_nd = features.toarray()\n",
    "\n",
    "X_train, X_test, y_train, y_test = train_test_split(features_nd, targets)"
   ]
  },
  {
   "cell_type": "code",
   "execution_count": 30,
   "metadata": {},
   "outputs": [
    {
     "name": "stdout",
     "output_type": "stream",
     "text": [
      "0.8486\n"
     ]
    }
   ],
   "source": [
    "clf = LogisticRegression(max_iter=200).fit(X_train, y_train)\n",
    "y_pred = clf.predict(X_test)\n",
    "\n",
    "print(accuracy_score(y_test,y_pred))"
   ]
  },
  {
   "cell_type": "code",
   "execution_count": 31,
   "metadata": {},
   "outputs": [
    {
     "name": "stdout",
     "output_type": "stream",
     "text": [
      "[ True]\n"
     ]
    }
   ],
   "source": [
    "test = 'i really love this game'\n",
    "test_transf = vectorizer.transform([test])\n",
    "print(clf.predict(test_transf))"
   ]
  },
  {
   "cell_type": "code",
   "execution_count": 32,
   "metadata": {},
   "outputs": [],
   "source": [
    "from IPython import get_ipython\n",
    "get_ipython().magic('reset -sf') "
   ]
  }
 ],
 "metadata": {
  "interpreter": {
   "hash": "9133d50dc87182ed154dd984b25012be9bb6762f92b1cab2f9ffcc6b9b06f1af"
  },
  "kernelspec": {
   "display_name": "Python 3.9.7 64-bit ('base': conda)",
   "language": "python",
   "name": "python3"
  },
  "language_info": {
   "codemirror_mode": {
    "name": "ipython",
    "version": 3
   },
   "file_extension": ".py",
   "mimetype": "text/x-python",
   "name": "python",
   "nbconvert_exporter": "python",
   "pygments_lexer": "ipython3",
   "version": "3.9.7"
  },
  "orig_nbformat": 4
 },
 "nbformat": 4,
 "nbformat_minor": 2
}
