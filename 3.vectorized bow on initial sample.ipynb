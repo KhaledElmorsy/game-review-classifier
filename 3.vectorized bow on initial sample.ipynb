{
 "cells": [
  {
   "cell_type": "code",
   "execution_count": 104,
   "metadata": {},
   "outputs": [],
   "source": [
    "import pandas as pd\n",
    "import numpy as np\n",
    "\n",
    "\n",
    "df = pd.read_csv(r'data\\processed\\reviews_processed.csv')\n",
    "\n",
    "df = df.sample(n = 100000)\n",
    "\n",
    "df.to_csv(r'data\\samples\\sample.csv', index=False)\n",
    "df.dropna(inplace=True)\n",
    "\n",
    "reviews = df['review'].to_list()\n",
    "sentiment = df['sentiment'].to_list()"
   ]
  },
  {
   "cell_type": "code",
   "execution_count": 105,
   "metadata": {},
   "outputs": [
    {
     "name": "stdout",
     "output_type": "stream",
     "text": [
      "0.8889167000400481\n"
     ]
    }
   ],
   "source": [
    "from sklearn.feature_extraction.text import CountVectorizer\n",
    "from sklearn.model_selection import train_test_split\n",
    "from sklearn.linear_model import LogisticRegression\n",
    "from sklearn.metrics import accuracy_score\n",
    "\n",
    "\n",
    "vectorizer = CountVectorizer(analyzer='word', ngram_range=(1, 2), max_features=3)\n",
    "\n",
    "features = vectorizer.fit_transform(reviews)\n",
    "features_nd = features.toarray()\n",
    "\n",
    "X_train, X_test, Y_train, Y_test = train_test_split(\n",
    "                features_nd,\n",
    "                sentiment,\n",
    "                train_size=0.8,\n",
    "                random_state=1512)\n",
    "\n",
    "log_model = LogisticRegression()\n",
    "log_model = log_model.fit(X=X_train, y=Y_train)\n",
    "\n",
    "y_pred = log_model.predict(X_test)\n",
    "\n",
    "\n",
    "print(accuracy_score(Y_test, y_pred))"
   ]
  },
  {
   "cell_type": "code",
   "execution_count": 106,
   "metadata": {},
   "outputs": [
    {
     "name": "stdout",
     "output_type": "stream",
     "text": [
      "0.10872481877528135\n"
     ]
    }
   ],
   "source": [
    "ratio = sentiment.count(False)/len(sentiment)\n",
    "print(ratio)"
   ]
  },
  {
   "cell_type": "code",
   "execution_count": 107,
   "metadata": {},
   "outputs": [
    {
     "data": {
      "text/plain": [
       "['and', 'game', 'the']"
      ]
     },
     "execution_count": 107,
     "metadata": {},
     "output_type": "execute_result"
    }
   ],
   "source": [
    "feature_names = vectorizer.get_feature_names()\n",
    "feature_names"
   ]
  }
 ],
 "metadata": {
  "interpreter": {
   "hash": "9133d50dc87182ed154dd984b25012be9bb6762f92b1cab2f9ffcc6b9b06f1af"
  },
  "kernelspec": {
   "display_name": "Python 3.9.7 64-bit ('base': conda)",
   "language": "python",
   "name": "python3"
  },
  "language_info": {
   "codemirror_mode": {
    "name": "ipython",
    "version": 3
   },
   "file_extension": ".py",
   "mimetype": "text/x-python",
   "name": "python",
   "nbconvert_exporter": "python",
   "pygments_lexer": "ipython3",
   "version": "3.9.7"
  },
  "orig_nbformat": 4
 },
 "nbformat": 4,
 "nbformat_minor": 2
}
